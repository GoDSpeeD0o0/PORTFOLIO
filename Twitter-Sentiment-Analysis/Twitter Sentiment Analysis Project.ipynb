{
 "cells": [
  {
   "cell_type": "markdown",
   "metadata": {},
   "source": [
    "## Twitter Sentiment Prediction\n",
    "\n",
    "### 1.1 Introduction\n",
    "\n",
    "Taking a look at twitter, there are a lot of tweets generated every single second by different users. In addition, some of these tweets might be positive while the others might be negative. It would be really useful if machine learning and deep learning is deployed in real-time to classify the texts and tweets as positive, negative or neutral respectively. As a result of this, a lot of time and money would be saved by the company without the need to use manpower for these simple tasks respectively. \n",
    "\n",
    "In this machine learning project, we would be working with real-time twitter tweets and predicting the sentiment of the text whether it is positive, negative or neutral. With the help of deep neural networks along with hyperparameter tuning, we would be classifying the tweets, ensuring that there is a good business value for the company by analyzing the text and understanding the working of machine learning models. \n",
    "\n",
    "### 1.2 Metrics\n",
    "\n",
    "1. Accuracy\n",
    "2. Precision \n",
    "3. Recall \n",
    "\n",
    "### 1.3 Source \n",
    "The dataset is taken from Kaggle. It is available in the website below. Feel free to download the dataset. \n",
    "\n",
    "https://www.kaggle.com/c/tweet-sentiment-extraction/data\n",
    "\n",
    "## Table of Contents\n",
    "\n",
    "1. Reading the data\n",
    "2. Countplot of the Sentiment\n",
    "3. Positive Text WordCloud\n",
    "4. Negative Text WordCloud\n",
    "5. List of Stopwords\n",
    "6. Dividing the data into training and Cross Validation Data\n",
    "7. Function for Replacing Words\n",
    "8. Preprocessing the Text\n",
    "9. Tfidf Vectorizer\n",
    "10. Neural Network Model for Prediction \n",
    "11. Count Vectorizer\n",
    "12. Neural Network Model \n",
    "13. Plots of the Results \n",
    "14. Conclusion\n",
    "\n",
    "\n",
    "Let us now start the project by reading some useful libraries that we would be working with from the start. "
   ]
  },
  {
   "cell_type": "code",
   "execution_count": 1,
   "metadata": {},
   "outputs": [
    {
     "name": "stdout",
     "output_type": "stream",
     "text": [
      "Requirement already satisfied: tensorflow in c:\\projects\\portfolio\\.venv\\lib\\site-packages (2.17.0)Note: you may need to restart the kernel to use updated packages.\n",
      "\n",
      "Requirement already satisfied: tensorflow-intel==2.17.0 in c:\\projects\\portfolio\\.venv\\lib\\site-packages (from tensorflow) (2.17.0)\n",
      "Requirement already satisfied: absl-py>=1.0.0 in c:\\projects\\portfolio\\.venv\\lib\\site-packages (from tensorflow-intel==2.17.0->tensorflow) (2.1.0)\n",
      "Requirement already satisfied: astunparse>=1.6.0 in c:\\projects\\portfolio\\.venv\\lib\\site-packages (from tensorflow-intel==2.17.0->tensorflow) (1.6.3)\n",
      "Requirement already satisfied: flatbuffers>=24.3.25 in c:\\projects\\portfolio\\.venv\\lib\\site-packages (from tensorflow-intel==2.17.0->tensorflow) (24.12.23)\n",
      "Requirement already satisfied: gast!=0.5.0,!=0.5.1,!=0.5.2,>=0.2.1 in c:\\projects\\portfolio\\.venv\\lib\\site-packages (from tensorflow-intel==2.17.0->tensorflow) (0.6.0)\n",
      "Requirement already satisfied: google-pasta>=0.1.1 in c:\\projects\\portfolio\\.venv\\lib\\site-packages (from tensorflow-intel==2.17.0->tensorflow) (0.2.0)\n",
      "Requirement already satisfied: h5py>=3.10.0 in c:\\projects\\portfolio\\.venv\\lib\\site-packages (from tensorflow-intel==2.17.0->tensorflow) (3.12.1)\n",
      "Requirement already satisfied: libclang>=13.0.0 in c:\\projects\\portfolio\\.venv\\lib\\site-packages (from tensorflow-intel==2.17.0->tensorflow) (18.1.1)\n",
      "Requirement already satisfied: ml-dtypes<0.5.0,>=0.3.1 in c:\\projects\\portfolio\\.venv\\lib\\site-packages (from tensorflow-intel==2.17.0->tensorflow) (0.4.1)\n",
      "Requirement already satisfied: opt-einsum>=2.3.2 in c:\\projects\\portfolio\\.venv\\lib\\site-packages (from tensorflow-intel==2.17.0->tensorflow) (3.4.0)\n",
      "Requirement already satisfied: packaging in c:\\projects\\portfolio\\.venv\\lib\\site-packages (from tensorflow-intel==2.17.0->tensorflow) (24.2)\n",
      "Requirement already satisfied: protobuf!=4.21.0,!=4.21.1,!=4.21.2,!=4.21.3,!=4.21.4,!=4.21.5,<5.0.0dev,>=3.20.3 in c:\\projects\\portfolio\\.venv\\lib\\site-packages (from tensorflow-intel==2.17.0->tensorflow) (4.25.5)\n",
      "Requirement already satisfied: requests<3,>=2.21.0 in c:\\projects\\portfolio\\.venv\\lib\\site-packages (from tensorflow-intel==2.17.0->tensorflow) (2.32.3)\n",
      "Requirement already satisfied: setuptools in c:\\projects\\portfolio\\.venv\\lib\\site-packages (from tensorflow-intel==2.17.0->tensorflow) (75.8.0)\n",
      "Requirement already satisfied: six>=1.12.0 in c:\\projects\\portfolio\\.venv\\lib\\site-packages (from tensorflow-intel==2.17.0->tensorflow) (1.17.0)\n",
      "Requirement already satisfied: termcolor>=1.1.0 in c:\\projects\\portfolio\\.venv\\lib\\site-packages (from tensorflow-intel==2.17.0->tensorflow) (2.5.0)\n",
      "Requirement already satisfied: typing-extensions>=3.6.6 in c:\\projects\\portfolio\\.venv\\lib\\site-packages (from tensorflow-intel==2.17.0->tensorflow) (4.12.2)\n",
      "Requirement already satisfied: wrapt>=1.11.0 in c:\\projects\\portfolio\\.venv\\lib\\site-packages (from tensorflow-intel==2.17.0->tensorflow) (1.17.2)\n",
      "Requirement already satisfied: grpcio<2.0,>=1.24.3 in c:\\projects\\portfolio\\.venv\\lib\\site-packages (from tensorflow-intel==2.17.0->tensorflow) (1.69.0)\n",
      "Requirement already satisfied: tensorboard<2.18,>=2.17 in c:\\projects\\portfolio\\.venv\\lib\\site-packages (from tensorflow-intel==2.17.0->tensorflow) (2.17.1)\n",
      "Requirement already satisfied: keras>=3.2.0 in c:\\projects\\portfolio\\.venv\\lib\\site-packages (from tensorflow-intel==2.17.0->tensorflow) (3.8.0)\n",
      "Requirement already satisfied: numpy<2.0.0,>=1.26.0 in c:\\projects\\portfolio\\.venv\\lib\\site-packages (from tensorflow-intel==2.17.0->tensorflow) (1.26.4)\n",
      "Requirement already satisfied: wheel<1.0,>=0.23.0 in c:\\projects\\portfolio\\.venv\\lib\\site-packages (from astunparse>=1.6.0->tensorflow-intel==2.17.0->tensorflow) (0.45.1)\n",
      "Requirement already satisfied: rich in c:\\projects\\portfolio\\.venv\\lib\\site-packages (from keras>=3.2.0->tensorflow-intel==2.17.0->tensorflow) (13.9.4)\n",
      "Requirement already satisfied: namex in c:\\projects\\portfolio\\.venv\\lib\\site-packages (from keras>=3.2.0->tensorflow-intel==2.17.0->tensorflow) (0.0.8)\n",
      "Requirement already satisfied: optree in c:\\projects\\portfolio\\.venv\\lib\\site-packages (from keras>=3.2.0->tensorflow-intel==2.17.0->tensorflow) (0.14.0)\n",
      "Requirement already satisfied: charset-normalizer<4,>=2 in c:\\projects\\portfolio\\.venv\\lib\\site-packages (from requests<3,>=2.21.0->tensorflow-intel==2.17.0->tensorflow) (3.4.1)\n",
      "Requirement already satisfied: idna<4,>=2.5 in c:\\projects\\portfolio\\.venv\\lib\\site-packages (from requests<3,>=2.21.0->tensorflow-intel==2.17.0->tensorflow) (3.10)\n",
      "Requirement already satisfied: urllib3<3,>=1.21.1 in c:\\projects\\portfolio\\.venv\\lib\\site-packages (from requests<3,>=2.21.0->tensorflow-intel==2.17.0->tensorflow) (2.3.0)\n",
      "Requirement already satisfied: certifi>=2017.4.17 in c:\\projects\\portfolio\\.venv\\lib\\site-packages (from requests<3,>=2.21.0->tensorflow-intel==2.17.0->tensorflow) (2024.12.14)\n",
      "Requirement already satisfied: markdown>=2.6.8 in c:\\projects\\portfolio\\.venv\\lib\\site-packages (from tensorboard<2.18,>=2.17->tensorflow-intel==2.17.0->tensorflow) (3.7)\n",
      "Requirement already satisfied: tensorboard-data-server<0.8.0,>=0.7.0 in c:\\projects\\portfolio\\.venv\\lib\\site-packages (from tensorboard<2.18,>=2.17->tensorflow-intel==2.17.0->tensorflow) (0.7.2)\n",
      "Requirement already satisfied: werkzeug>=1.0.1 in c:\\projects\\portfolio\\.venv\\lib\\site-packages (from tensorboard<2.18,>=2.17->tensorflow-intel==2.17.0->tensorflow) (3.1.3)\n",
      "Requirement already satisfied: MarkupSafe>=2.1.1 in c:\\projects\\portfolio\\.venv\\lib\\site-packages (from werkzeug>=1.0.1->tensorboard<2.18,>=2.17->tensorflow-intel==2.17.0->tensorflow) (3.0.2)\n",
      "Requirement already satisfied: markdown-it-py>=2.2.0 in c:\\projects\\portfolio\\.venv\\lib\\site-packages (from rich->keras>=3.2.0->tensorflow-intel==2.17.0->tensorflow) (3.0.0)\n",
      "Requirement already satisfied: pygments<3.0.0,>=2.13.0 in c:\\projects\\portfolio\\.venv\\lib\\site-packages (from rich->keras>=3.2.0->tensorflow-intel==2.17.0->tensorflow) (2.19.1)\n",
      "Requirement already satisfied: mdurl~=0.1 in c:\\projects\\portfolio\\.venv\\lib\\site-packages (from markdown-it-py>=2.2.0->rich->keras>=3.2.0->tensorflow-intel==2.17.0->tensorflow) (0.1.2)\n",
      "Requirement already satisfied: wordcloud in c:\\projects\\portfolio\\.venv\\lib\\site-packages (1.9.4)\n",
      "Requirement already satisfied: numpy>=1.6.1 in c:\\projects\\portfolio\\.venv\\lib\\site-packages (from wordcloud) (1.26.4)\n",
      "Requirement already satisfied: pillow in c:\\projects\\portfolio\\.venv\\lib\\site-packages (from wordcloud) (11.1.0)\n",
      "Requirement already satisfied: matplotlib in c:\\projects\\portfolio\\.venv\\lib\\site-packages (from wordcloud) (3.10.0)\n",
      "Requirement already satisfied: contourpy>=1.0.1 in c:\\projects\\portfolio\\.venv\\lib\\site-packages (from matplotlib->wordcloud) (1.3.1)\n",
      "Requirement already satisfied: cycler>=0.10 in c:\\projects\\portfolio\\.venv\\lib\\site-packages (from matplotlib->wordcloud) (0.12.1)\n",
      "Requirement already satisfied: fonttools>=4.22.0 in c:\\projects\\portfolio\\.venv\\lib\\site-packages (from matplotlib->wordcloud) (4.55.3)\n",
      "Requirement already satisfied: kiwisolver>=1.3.1 in c:\\projects\\portfolio\\.venv\\lib\\site-packages (from matplotlib->wordcloud) (1.4.8)\n",
      "Requirement already satisfied: packaging>=20.0 in c:\\projects\\portfolio\\.venv\\lib\\site-packages (from matplotlib->wordcloud) (24.2)\n",
      "Requirement already satisfied: pyparsing>=2.3.1 in c:\\projects\\portfolio\\.venv\\lib\\site-packages (from matplotlib->wordcloud) (3.2.1)\n",
      "Requirement already satisfied: python-dateutil>=2.7 in c:\\projects\\portfolio\\.venv\\lib\\site-packages (from matplotlib->wordcloud) (2.9.0.post0)\n",
      "Requirement already satisfied: six>=1.5 in c:\\projects\\portfolio\\.venv\\lib\\site-packages (from python-dateutil>=2.7->matplotlib->wordcloud) (1.17.0)\n",
      "Note: you may need to restart the kernel to use updated packages.\n",
      "Requirement already satisfied: pandas in c:\\projects\\portfolio\\.venv\\lib\\site-packages (2.2.3)\n",
      "Requirement already satisfied: numpy>=1.26.0 in c:\\projects\\portfolio\\.venv\\lib\\site-packages (from pandas) (1.26.4)\n",
      "Requirement already satisfied: python-dateutil>=2.8.2 in c:\\projects\\portfolio\\.venv\\lib\\site-packages (from pandas) (2.9.0.post0)\n",
      "Requirement already satisfied: pytz>=2020.1 in c:\\projects\\portfolio\\.venv\\lib\\site-packages (from pandas) (2024.2)\n",
      "Requirement already satisfied: tzdata>=2022.7 in c:\\projects\\portfolio\\.venv\\lib\\site-packages (from pandas) (2024.2)\n",
      "Requirement already satisfied: six>=1.5 in c:\\projects\\portfolio\\.venv\\lib\\site-packages (from python-dateutil>=2.8.2->pandas) (1.17.0)\n",
      "Note: you may need to restart the kernel to use updated packages.\n",
      "Requirement already satisfied: seaborn in c:\\projects\\portfolio\\.venv\\lib\\site-packages (0.13.2)\n",
      "Requirement already satisfied: numpy!=1.24.0,>=1.20 in c:\\projects\\portfolio\\.venv\\lib\\site-packages (from seaborn) (1.26.4)\n",
      "Requirement already satisfied: pandas>=1.2 in c:\\projects\\portfolio\\.venv\\lib\\site-packages (from seaborn) (2.2.3)\n",
      "Requirement already satisfied: matplotlib!=3.6.1,>=3.4 in c:\\projects\\portfolio\\.venv\\lib\\site-packages (from seaborn) (3.10.0)\n",
      "Requirement already satisfied: contourpy>=1.0.1 in c:\\projects\\portfolio\\.venv\\lib\\site-packages (from matplotlib!=3.6.1,>=3.4->seaborn) (1.3.1)\n",
      "Requirement already satisfied: cycler>=0.10 in c:\\projects\\portfolio\\.venv\\lib\\site-packages (from matplotlib!=3.6.1,>=3.4->seaborn) (0.12.1)\n",
      "Requirement already satisfied: fonttools>=4.22.0 in c:\\projects\\portfolio\\.venv\\lib\\site-packages (from matplotlib!=3.6.1,>=3.4->seaborn) (4.55.3)\n",
      "Requirement already satisfied: kiwisolver>=1.3.1 in c:\\projects\\portfolio\\.venv\\lib\\site-packages (from matplotlib!=3.6.1,>=3.4->seaborn) (1.4.8)\n",
      "Requirement already satisfied: packaging>=20.0 in c:\\projects\\portfolio\\.venv\\lib\\site-packages (from matplotlib!=3.6.1,>=3.4->seaborn) (24.2)\n",
      "Requirement already satisfied: pillow>=8 in c:\\projects\\portfolio\\.venv\\lib\\site-packages (from matplotlib!=3.6.1,>=3.4->seaborn) (11.1.0)\n",
      "Requirement already satisfied: pyparsing>=2.3.1 in c:\\projects\\portfolio\\.venv\\lib\\site-packages (from matplotlib!=3.6.1,>=3.4->seaborn) (3.2.1)\n",
      "Requirement already satisfied: python-dateutil>=2.7 in c:\\projects\\portfolio\\.venv\\lib\\site-packages (from matplotlib!=3.6.1,>=3.4->seaborn) (2.9.0.post0)\n",
      "Requirement already satisfied: pytz>=2020.1 in c:\\projects\\portfolio\\.venv\\lib\\site-packages (from pandas>=1.2->seaborn) (2024.2)\n",
      "Requirement already satisfied: tzdata>=2022.7 in c:\\projects\\portfolio\\.venv\\lib\\site-packages (from pandas>=1.2->seaborn) (2024.2)\n",
      "Requirement already satisfied: six>=1.5 in c:\\projects\\portfolio\\.venv\\lib\\site-packages (from python-dateutil>=2.7->matplotlib!=3.6.1,>=3.4->seaborn) (1.17.0)\n",
      "Note: you may need to restart the kernel to use updated packages.\n",
      "Requirement already satisfied: numpy in c:\\projects\\portfolio\\.venv\\lib\\site-packages (1.26.4)\n",
      "Note: you may need to restart the kernel to use updated packages.\n",
      "Requirement already satisfied: matplotlib in c:\\projects\\portfolio\\.venv\\lib\\site-packages (3.10.0)\n",
      "Requirement already satisfied: contourpy>=1.0.1 in c:\\projects\\portfolio\\.venv\\lib\\site-packages (from matplotlib) (1.3.1)\n",
      "Requirement already satisfied: cycler>=0.10 in c:\\projects\\portfolio\\.venv\\lib\\site-packages (from matplotlib) (0.12.1)\n",
      "Requirement already satisfied: fonttools>=4.22.0 in c:\\projects\\portfolio\\.venv\\lib\\site-packages (from matplotlib) (4.55.3)\n",
      "Requirement already satisfied: kiwisolver>=1.3.1 in c:\\projects\\portfolio\\.venv\\lib\\site-packages (from matplotlib) (1.4.8)\n",
      "Requirement already satisfied: numpy>=1.23 in c:\\projects\\portfolio\\.venv\\lib\\site-packages (from matplotlib) (1.26.4)\n",
      "Requirement already satisfied: packaging>=20.0 in c:\\projects\\portfolio\\.venv\\lib\\site-packages (from matplotlib) (24.2)\n",
      "Requirement already satisfied: pillow>=8 in c:\\projects\\portfolio\\.venv\\lib\\site-packages (from matplotlib) (11.1.0)\n",
      "Requirement already satisfied: pyparsing>=2.3.1 in c:\\projects\\portfolio\\.venv\\lib\\site-packages (from matplotlib) (3.2.1)\n",
      "Requirement already satisfied: python-dateutil>=2.7 in c:\\projects\\portfolio\\.venv\\lib\\site-packages (from matplotlib) (2.9.0.post0)\n",
      "Requirement already satisfied: six>=1.5 in c:\\projects\\portfolio\\.venv\\lib\\site-packages (from python-dateutil>=2.7->matplotlib) (1.17.0)\n",
      "Note: you may need to restart the kernel to use updated packages.\n",
      "Requirement already satisfied: scikit-learn in c:\\projects\\portfolio\\.venv\\lib\\site-packages (1.6.1)\n",
      "Requirement already satisfied: numpy>=1.19.5 in c:\\projects\\portfolio\\.venv\\lib\\site-packages (from scikit-learn) (1.26.4)\n",
      "Requirement already satisfied: scipy>=1.6.0 in c:\\projects\\portfolio\\.venv\\lib\\site-packages (from scikit-learn) (1.15.1)\n",
      "Requirement already satisfied: joblib>=1.2.0 in c:\\projects\\portfolio\\.venv\\lib\\site-packages (from scikit-learn) (1.4.2)\n",
      "Requirement already satisfied: threadpoolctl>=3.1.0 in c:\\projects\\portfolio\\.venv\\lib\\site-packages (from scikit-learn) (3.5.0)\n",
      "Note: you may need to restart the kernel to use updated packages.\n",
      "Requirement already satisfied: nltk in c:\\projects\\portfolio\\.venv\\lib\\site-packages (3.9.1)Note: you may need to restart the kernel to use updated packages.\n",
      "\n",
      "Requirement already satisfied: click in c:\\projects\\portfolio\\.venv\\lib\\site-packages (from nltk) (8.1.8)\n",
      "Requirement already satisfied: joblib in c:\\projects\\portfolio\\.venv\\lib\\site-packages (from nltk) (1.4.2)\n",
      "Requirement already satisfied: regex>=2021.8.3 in c:\\projects\\portfolio\\.venv\\lib\\site-packages (from nltk) (2024.11.6)\n",
      "Requirement already satisfied: tqdm in c:\\projects\\portfolio\\.venv\\lib\\site-packages (from nltk) (4.67.1)\n",
      "Requirement already satisfied: colorama in c:\\projects\\portfolio\\.venv\\lib\\site-packages (from click->nltk) (0.4.6)\n",
      "Requirement already satisfied: setuptools in c:\\projects\\portfolio\\.venv\\lib\\site-packages (75.8.0)Note: you may need to restart the kernel to use updated packages.\n",
      "\n"
     ]
    }
   ],
   "source": [
    "%pip install tensorflow\n",
    "%pip install wordcloud\n",
    "%pip install pandas\n",
    "%pip install seaborn\n",
    "%pip install numpy\n",
    "%pip install matplotlib\n",
    "%pip install scikit-learn\n",
    "%pip install nltk\n",
    "%pip install --upgrade setuptools"
   ]
  },
  {
   "cell_type": "code",
   "execution_count": null,
   "metadata": {
    "execution": {
     "iopub.execute_input": "2021-06-21T19:00:07.392651Z",
     "iopub.status.busy": "2021-06-21T19:00:07.392267Z",
     "iopub.status.idle": "2021-06-21T19:00:13.077908Z",
     "shell.execute_reply": "2021-06-21T19:00:13.076748Z",
     "shell.execute_reply.started": "2021-06-21T19:00:07.392616Z"
    }
   },
   "outputs": [],
   "source": [
    "import pandas as pd\n",
    "import seaborn as sns\n",
    "import numpy as np\n",
    "import matplotlib.pyplot as plt\n",
    "import warnings\n",
    "warnings.filterwarnings(\"ignore\")\n",
    "from tensorflow.keras.layers import Dense, Dropout\n",
    "from tensorflow.keras.models import Sequential\n",
    "from wordcloud import WordCloud, STOPWORDS\n",
    "from sklearn.preprocessing import LabelBinarizer\n",
    "from tensorflow.keras.utils import to_categorical\n",
    "from sklearn.preprocessing import LabelEncoder\n",
    "from sklearn.preprocessing import MinMaxScaler\n",
    "from sklearn.model_selection import train_test_split\n",
    "from sklearn.feature_extraction.text import CountVectorizer, TfidfVectorizer\n"
   ]
  },
  {
   "cell_type": "markdown",
   "metadata": {},
   "source": [
    "## 1. Reading the data \n",
    "\n",
    "We would be first reading the data that is present in the kaggle repository to ensure that we work with it. "
   ]
  },
  {
   "cell_type": "code",
   "execution_count": 125,
   "metadata": {
    "execution": {
     "iopub.execute_input": "2021-06-21T19:00:13.082363Z",
     "iopub.status.busy": "2021-06-21T19:00:13.082048Z",
     "iopub.status.idle": "2021-06-21T19:00:13.150282Z",
     "shell.execute_reply": "2021-06-21T19:00:13.149422Z",
     "shell.execute_reply.started": "2021-06-21T19:00:13.082317Z"
    }
   },
   "outputs": [],
   "source": [
    "df = pd.read_csv('train.csv')"
   ]
  },
  {
   "cell_type": "markdown",
   "metadata": {},
   "source": [
    "Reading the head of the dataframe, we see that there are different columns such as textID, text, selected_text and the output that we are going to be predict which is sentiment respectively. "
   ]
  },
  {
   "cell_type": "code",
   "execution_count": null,
   "metadata": {
    "execution": {
     "iopub.execute_input": "2021-06-21T19:00:13.152881Z",
     "iopub.status.busy": "2021-06-21T19:00:13.152501Z",
     "iopub.status.idle": "2021-06-21T19:00:13.165172Z",
     "shell.execute_reply": "2021-06-21T19:00:13.164086Z",
     "shell.execute_reply.started": "2021-06-21T19:00:13.152842Z"
    }
   },
   "outputs": [],
   "source": [
    "df.head()"
   ]
  },
  {
   "cell_type": "markdown",
   "metadata": {},
   "source": [
    "We would be dropping the selected text as the test set does not contain those values. It would be good to leave only the text for the machine learning models for predictions respectively. "
   ]
  },
  {
   "cell_type": "code",
   "execution_count": 127,
   "metadata": {
    "execution": {
     "iopub.execute_input": "2021-06-21T19:00:13.167732Z",
     "iopub.status.busy": "2021-06-21T19:00:13.167299Z",
     "iopub.status.idle": "2021-06-21T19:00:13.177373Z",
     "shell.execute_reply": "2021-06-21T19:00:13.176555Z",
     "shell.execute_reply.started": "2021-06-21T19:00:13.167689Z"
    }
   },
   "outputs": [],
   "source": [
    "df.drop(['selected_text'], axis = 1, inplace = True)"
   ]
  },
  {
   "cell_type": "markdown",
   "metadata": {},
   "source": [
    "Since we have removed the selected text, we are only left with the actual text values along with the sentiment whether it is positive, negative or neutral output respectively."
   ]
  },
  {
   "cell_type": "code",
   "execution_count": null,
   "metadata": {
    "execution": {
     "iopub.execute_input": "2021-06-21T19:00:13.179273Z",
     "iopub.status.busy": "2021-06-21T19:00:13.178675Z",
     "iopub.status.idle": "2021-06-21T19:00:13.192988Z",
     "shell.execute_reply": "2021-06-21T19:00:13.192140Z",
     "shell.execute_reply.started": "2021-06-21T19:00:13.179231Z"
    }
   },
   "outputs": [],
   "source": [
    "df.head()"
   ]
  },
  {
   "cell_type": "markdown",
   "metadata": {},
   "source": [
    "## 2. Countplot of the Sentiment \n",
    "\n",
    "As can be seen, there seems to be more neutral sentiment in the text compared to positive or negative tweets. That is true in real life as most of the tweets would be quite neutral without them being either too positive or too negative respectively. "
   ]
  },
  {
   "cell_type": "code",
   "execution_count": null,
   "metadata": {
    "execution": {
     "iopub.execute_input": "2021-06-21T19:00:13.194888Z",
     "iopub.status.busy": "2021-06-21T19:00:13.194507Z",
     "iopub.status.idle": "2021-06-21T19:00:13.329502Z",
     "shell.execute_reply": "2021-06-21T19:00:13.328473Z",
     "shell.execute_reply.started": "2021-06-21T19:00:13.194849Z"
    }
   },
   "outputs": [],
   "source": [
    "sns.countplot(x = 'sentiment', data = df)\n",
    "plt.show()"
   ]
  },
  {
   "cell_type": "markdown",
   "metadata": {},
   "source": [
    "Taking a look at the shape of the data, we see that there are about 27k data points that we are going to be working and applying our knowledge."
   ]
  },
  {
   "cell_type": "code",
   "execution_count": null,
   "metadata": {
    "execution": {
     "iopub.execute_input": "2021-06-21T19:00:13.331474Z",
     "iopub.status.busy": "2021-06-21T19:00:13.331069Z",
     "iopub.status.idle": "2021-06-21T19:00:13.337548Z",
     "shell.execute_reply": "2021-06-21T19:00:13.336559Z",
     "shell.execute_reply.started": "2021-06-21T19:00:13.331433Z"
    }
   },
   "outputs": [],
   "source": [
    "df.shape"
   ]
  },
  {
   "cell_type": "markdown",
   "metadata": {},
   "source": [
    "Reading a few lines in a particular row of the text, we see that it is quite a simple tweet without being too lengthy.  "
   ]
  },
  {
   "cell_type": "code",
   "execution_count": null,
   "metadata": {
    "execution": {
     "iopub.execute_input": "2021-06-21T19:00:13.340960Z",
     "iopub.status.busy": "2021-06-21T19:00:13.340595Z",
     "iopub.status.idle": "2021-06-21T19:00:13.348820Z",
     "shell.execute_reply": "2021-06-21T19:00:13.347779Z",
     "shell.execute_reply.started": "2021-06-21T19:00:13.340923Z"
    }
   },
   "outputs": [],
   "source": [
    "df['text'].iloc[0]"
   ]
  },
  {
   "cell_type": "markdown",
   "metadata": {},
   "source": [
    "Taking a look at the total number of characters from a single text, we see that there are about 36 characters respectively."
   ]
  },
  {
   "cell_type": "code",
   "execution_count": null,
   "metadata": {
    "execution": {
     "iopub.execute_input": "2021-06-21T19:00:13.351702Z",
     "iopub.status.busy": "2021-06-21T19:00:13.351229Z",
     "iopub.status.idle": "2021-06-21T19:00:13.359034Z",
     "shell.execute_reply": "2021-06-21T19:00:13.357956Z",
     "shell.execute_reply.started": "2021-06-21T19:00:13.351664Z"
    }
   },
   "outputs": [],
   "source": [
    "len(df['text'].iloc[0])"
   ]
  },
  {
   "cell_type": "markdown",
   "metadata": {},
   "source": [
    "Let us now read the head of the text and see the values that are present to understand the working of the machine learning models respectively."
   ]
  },
  {
   "cell_type": "code",
   "execution_count": null,
   "metadata": {
    "execution": {
     "iopub.execute_input": "2021-06-21T19:00:13.360952Z",
     "iopub.status.busy": "2021-06-21T19:00:13.360577Z",
     "iopub.status.idle": "2021-06-21T19:00:13.373248Z",
     "shell.execute_reply": "2021-06-21T19:00:13.372473Z",
     "shell.execute_reply.started": "2021-06-21T19:00:13.360915Z"
    }
   },
   "outputs": [],
   "source": [
    "df['text'].head()"
   ]
  },
  {
   "cell_type": "markdown",
   "metadata": {},
   "source": [
    "Looking at the information present in our dataframe, we can see that almost all the values are not-null except a few that we are going to be clearing to ensure that those values don't interfere in the machine learning models and predictions respectively."
   ]
  },
  {
   "cell_type": "code",
   "execution_count": null,
   "metadata": {
    "execution": {
     "iopub.execute_input": "2021-06-21T19:00:13.375954Z",
     "iopub.status.busy": "2021-06-21T19:00:13.375361Z",
     "iopub.status.idle": "2021-06-21T19:00:13.394563Z",
     "shell.execute_reply": "2021-06-21T19:00:13.393396Z",
     "shell.execute_reply.started": "2021-06-21T19:00:13.375916Z"
    }
   },
   "outputs": [],
   "source": [
    "df.info()"
   ]
  },
  {
   "cell_type": "code",
   "execution_count": null,
   "metadata": {
    "execution": {
     "iopub.execute_input": "2021-06-21T19:00:13.396526Z",
     "iopub.status.busy": "2021-06-21T19:00:13.396167Z",
     "iopub.status.idle": "2021-06-21T19:00:13.402075Z",
     "shell.execute_reply": "2021-06-21T19:00:13.401160Z",
     "shell.execute_reply.started": "2021-06-21T19:00:13.396491Z"
    }
   },
   "outputs": [],
   "source": [
    "df['text'].iloc[0]"
   ]
  },
  {
   "cell_type": "code",
   "execution_count": null,
   "metadata": {
    "execution": {
     "iopub.execute_input": "2021-06-21T19:00:13.404260Z",
     "iopub.status.busy": "2021-06-21T19:00:13.403579Z",
     "iopub.status.idle": "2021-06-21T19:00:13.706277Z",
     "shell.execute_reply": "2021-06-21T19:00:13.705495Z",
     "shell.execute_reply.started": "2021-06-21T19:00:13.404217Z"
    }
   },
   "outputs": [],
   "source": [
    "text_length_list = []\n",
    "for i in range(len(df)):\n",
    "    if isinstance(df['text'].iloc[i], float) == True:\n",
    "        print(df['text'].iloc[i])"
   ]
  },
  {
   "cell_type": "code",
   "execution_count": null,
   "metadata": {
    "execution": {
     "iopub.execute_input": "2021-06-21T19:00:13.707927Z",
     "iopub.status.busy": "2021-06-21T19:00:13.707576Z",
     "iopub.status.idle": "2021-06-21T19:00:13.713870Z",
     "shell.execute_reply": "2021-06-21T19:00:13.712873Z",
     "shell.execute_reply.started": "2021-06-21T19:00:13.707889Z"
    }
   },
   "outputs": [],
   "source": [
    "isinstance(\"suhas\", float)"
   ]
  },
  {
   "cell_type": "code",
   "execution_count": null,
   "metadata": {
    "execution": {
     "iopub.execute_input": "2021-06-21T19:00:13.715636Z",
     "iopub.status.busy": "2021-06-21T19:00:13.715252Z",
     "iopub.status.idle": "2021-06-21T19:00:13.735130Z",
     "shell.execute_reply": "2021-06-21T19:00:13.734085Z",
     "shell.execute_reply.started": "2021-06-21T19:00:13.715597Z"
    }
   },
   "outputs": [],
   "source": [
    "df.info()"
   ]
  },
  {
   "cell_type": "code",
   "execution_count": 139,
   "metadata": {
    "execution": {
     "iopub.execute_input": "2021-06-21T19:00:13.736947Z",
     "iopub.status.busy": "2021-06-21T19:00:13.736307Z",
     "iopub.status.idle": "2021-06-21T19:00:13.751374Z",
     "shell.execute_reply": "2021-06-21T19:00:13.750576Z",
     "shell.execute_reply.started": "2021-06-21T19:00:13.736906Z"
    }
   },
   "outputs": [],
   "source": [
    "df.dropna(inplace = True)"
   ]
  },
  {
   "cell_type": "code",
   "execution_count": null,
   "metadata": {
    "execution": {
     "iopub.execute_input": "2021-06-21T19:00:13.753549Z",
     "iopub.status.busy": "2021-06-21T19:00:13.752833Z",
     "iopub.status.idle": "2021-06-21T19:00:13.771041Z",
     "shell.execute_reply": "2021-06-21T19:00:13.770293Z",
     "shell.execute_reply.started": "2021-06-21T19:00:13.753513Z"
    }
   },
   "outputs": [],
   "source": [
    "df.info()"
   ]
  },
  {
   "cell_type": "code",
   "execution_count": 141,
   "metadata": {
    "execution": {
     "iopub.execute_input": "2021-06-21T19:00:13.772705Z",
     "iopub.status.busy": "2021-06-21T19:00:13.772281Z",
     "iopub.status.idle": "2021-06-21T19:00:13.793450Z",
     "shell.execute_reply": "2021-06-21T19:00:13.792656Z",
     "shell.execute_reply.started": "2021-06-21T19:00:13.772665Z"
    }
   },
   "outputs": [],
   "source": [
    "df['text_length'] = df['text'].apply(lambda x: len(x))"
   ]
  },
  {
   "cell_type": "code",
   "execution_count": null,
   "metadata": {
    "execution": {
     "iopub.execute_input": "2021-06-21T19:00:13.795193Z",
     "iopub.status.busy": "2021-06-21T19:00:13.794788Z",
     "iopub.status.idle": "2021-06-21T19:00:13.805623Z",
     "shell.execute_reply": "2021-06-21T19:00:13.804565Z",
     "shell.execute_reply.started": "2021-06-21T19:00:13.795116Z"
    }
   },
   "outputs": [],
   "source": [
    "df.head()"
   ]
  },
  {
   "cell_type": "code",
   "execution_count": 143,
   "metadata": {
    "execution": {
     "iopub.execute_input": "2021-06-21T19:00:13.807637Z",
     "iopub.status.busy": "2021-06-21T19:00:13.807212Z",
     "iopub.status.idle": "2021-06-21T19:00:13.849300Z",
     "shell.execute_reply": "2021-06-21T19:00:13.848538Z",
     "shell.execute_reply.started": "2021-06-21T19:00:13.807601Z"
    }
   },
   "outputs": [],
   "source": [
    "df['text_words'] = df['text'].apply(lambda x: len(x.split()))"
   ]
  },
  {
   "cell_type": "code",
   "execution_count": null,
   "metadata": {
    "execution": {
     "iopub.execute_input": "2021-06-21T19:00:13.850837Z",
     "iopub.status.busy": "2021-06-21T19:00:13.850479Z",
     "iopub.status.idle": "2021-06-21T19:00:13.861376Z",
     "shell.execute_reply": "2021-06-21T19:00:13.860454Z",
     "shell.execute_reply.started": "2021-06-21T19:00:13.850800Z"
    }
   },
   "outputs": [],
   "source": [
    "df.head()"
   ]
  },
  {
   "cell_type": "code",
   "execution_count": null,
   "metadata": {
    "execution": {
     "iopub.execute_input": "2021-06-21T19:00:13.863628Z",
     "iopub.status.busy": "2021-06-21T19:00:13.862971Z",
     "iopub.status.idle": "2021-06-21T19:00:13.877362Z",
     "shell.execute_reply": "2021-06-21T19:00:13.876370Z",
     "shell.execute_reply.started": "2021-06-21T19:00:13.863592Z"
    }
   },
   "outputs": [],
   "source": [
    "df.head()"
   ]
  },
  {
   "cell_type": "code",
   "execution_count": 146,
   "metadata": {
    "execution": {
     "iopub.execute_input": "2021-06-21T19:00:13.883536Z",
     "iopub.status.busy": "2021-06-21T19:00:13.883256Z",
     "iopub.status.idle": "2021-06-21T19:00:13.904970Z",
     "shell.execute_reply": "2021-06-21T19:00:13.904200Z",
     "shell.execute_reply.started": "2021-06-21T19:00:13.883511Z"
    }
   },
   "outputs": [],
   "source": [
    "## Taking separate dataframes for different values such as positive, negative and neutral reviews respectively. \n",
    "\n",
    "positive_df = df[df['sentiment'] == 'positive']\n",
    "negative_df = df[df['sentiment'] == 'negative']\n",
    "neutral_df = df[df['sentiment'] == 'neutral']"
   ]
  },
  {
   "cell_type": "code",
   "execution_count": null,
   "metadata": {
    "execution": {
     "iopub.execute_input": "2021-06-21T19:00:13.907941Z",
     "iopub.status.busy": "2021-06-21T19:00:13.907592Z",
     "iopub.status.idle": "2021-06-21T19:00:13.913226Z",
     "shell.execute_reply": "2021-06-21T19:00:13.912298Z",
     "shell.execute_reply.started": "2021-06-21T19:00:13.907914Z"
    }
   },
   "outputs": [],
   "source": [
    "print(\"The shape of the dataframe that contains only the positive reviews is: {}\".format(positive_df.shape))\n",
    "print(\"The shape of the dataframe that contains only the negative reviews is: {}\".format(negative_df.shape))\n",
    "print(\"The shape of the dataframe that contains only the neutral reviews is:  {}\".format(neutral_df.shape))"
   ]
  },
  {
   "cell_type": "code",
   "execution_count": 148,
   "metadata": {
    "execution": {
     "iopub.execute_input": "2021-06-21T19:00:13.915330Z",
     "iopub.status.busy": "2021-06-21T19:00:13.914713Z",
     "iopub.status.idle": "2021-06-21T19:00:13.922607Z",
     "shell.execute_reply": "2021-06-21T19:00:13.921622Z",
     "shell.execute_reply.started": "2021-06-21T19:00:13.915290Z"
    }
   },
   "outputs": [],
   "source": [
    "wordcloud = WordCloud(width = 500, height = 500)"
   ]
  },
  {
   "cell_type": "code",
   "execution_count": null,
   "metadata": {
    "execution": {
     "iopub.execute_input": "2021-06-21T19:00:13.924482Z",
     "iopub.status.busy": "2021-06-21T19:00:13.924029Z",
     "iopub.status.idle": "2021-06-21T19:00:13.937959Z",
     "shell.execute_reply": "2021-06-21T19:00:13.936936Z",
     "shell.execute_reply.started": "2021-06-21T19:00:13.924442Z"
    }
   },
   "outputs": [],
   "source": [
    "df.head()"
   ]
  },
  {
   "cell_type": "code",
   "execution_count": null,
   "metadata": {
    "execution": {
     "iopub.execute_input": "2021-06-21T19:00:13.939596Z",
     "iopub.status.busy": "2021-06-21T19:00:13.939221Z",
     "iopub.status.idle": "2021-06-21T19:00:13.953096Z",
     "shell.execute_reply": "2021-06-21T19:00:13.951979Z",
     "shell.execute_reply.started": "2021-06-21T19:00:13.939559Z"
    }
   },
   "outputs": [],
   "source": [
    "positive_df.head()"
   ]
  },
  {
   "cell_type": "code",
   "execution_count": 151,
   "metadata": {
    "execution": {
     "iopub.execute_input": "2021-06-21T19:00:13.954857Z",
     "iopub.status.busy": "2021-06-21T19:00:13.954479Z",
     "iopub.status.idle": "2021-06-21T19:00:14.059366Z",
     "shell.execute_reply": "2021-06-21T19:00:14.058470Z",
     "shell.execute_reply.started": "2021-06-21T19:00:13.954820Z"
    }
   },
   "outputs": [],
   "source": [
    "positive_text = []\n",
    "for i in range(len(positive_df)):\n",
    "    positive_text.append(positive_df['text'].iloc[i])"
   ]
  },
  {
   "cell_type": "code",
   "execution_count": null,
   "metadata": {
    "execution": {
     "iopub.execute_input": "2021-06-21T19:00:14.061769Z",
     "iopub.status.busy": "2021-06-21T19:00:14.061129Z",
     "iopub.status.idle": "2021-06-21T19:00:14.067892Z",
     "shell.execute_reply": "2021-06-21T19:00:14.066984Z",
     "shell.execute_reply.started": "2021-06-21T19:00:14.061728Z"
    }
   },
   "outputs": [],
   "source": [
    "positive_text[:5]"
   ]
  },
  {
   "cell_type": "markdown",
   "metadata": {},
   "source": [
    "## 3. Positive Text WordCloud \n",
    "\n",
    "Worcloud gives us a good idea about the number of repeating words by the size of them. We see that there are some positive words such as \"thank\" and \"good \"which make up most of the positive reviews. There are also some words that occur quite rare such as \"awesome\" but these words also make a mark in the decisions respectively. In addition to this, we also find that there are very few words that are negative in the positive text. Therefore, we can conclude that words are a good indication of the polarity and sentiment of the text respectively. "
   ]
  },
  {
   "cell_type": "code",
   "execution_count": null,
   "metadata": {
    "execution": {
     "iopub.execute_input": "2021-06-21T19:00:14.069849Z",
     "iopub.status.busy": "2021-06-21T19:00:14.069459Z",
     "iopub.status.idle": "2021-06-21T19:00:15.062416Z",
     "shell.execute_reply": "2021-06-21T19:00:15.061425Z",
     "shell.execute_reply.started": "2021-06-21T19:00:14.069809Z"
    }
   },
   "outputs": [],
   "source": [
    "import nltk \n",
    "nltk.download('stopwords')\n",
    "\n",
    "stopwords = nltk.corpus.stopwords.words('english')\n",
    "wordcloud = WordCloud(stopwords = stopwords)\n",
    "wordcloud.generate(''.join(positive_text))\n",
    "plt.figure(figsize = (10, 10))\n",
    "plt.imshow(wordcloud)\n",
    "plt.show()"
   ]
  },
  {
   "cell_type": "code",
   "execution_count": 154,
   "metadata": {
    "execution": {
     "iopub.execute_input": "2021-06-21T19:00:15.064571Z",
     "iopub.status.busy": "2021-06-21T19:00:15.063982Z",
     "iopub.status.idle": "2021-06-21T19:00:15.158866Z",
     "shell.execute_reply": "2021-06-21T19:00:15.158068Z",
     "shell.execute_reply.started": "2021-06-21T19:00:15.064521Z"
    }
   },
   "outputs": [],
   "source": [
    "negative_text = []\n",
    "for i in range(len(negative_df)):\n",
    "    negative_text.append(negative_df['text'].iloc[i])"
   ]
  },
  {
   "cell_type": "code",
   "execution_count": null,
   "metadata": {
    "execution": {
     "iopub.execute_input": "2021-06-21T19:00:15.160861Z",
     "iopub.status.busy": "2021-06-21T19:00:15.160281Z",
     "iopub.status.idle": "2021-06-21T19:00:15.166578Z",
     "shell.execute_reply": "2021-06-21T19:00:15.165435Z",
     "shell.execute_reply.started": "2021-06-21T19:00:15.160821Z"
    }
   },
   "outputs": [],
   "source": [
    "negative_text[0: 5]"
   ]
  },
  {
   "cell_type": "markdown",
   "metadata": {},
   "source": [
    "## 4. Negative Text WordCloud \n",
    "\n",
    "As can be seen in the wordcloud, there are some words such as \"miss\" and \"no\" which are considered to be negative respectively. In addition to this, we see that there are some words such as \"work\" and \"sorry\" that also tend to be negative as this is quite true in real-life where we say \"sorry\" for some negative things done and so on. Therefore, getting the wordcloud would ensure that we get to know the words present in the wordcloud dictionary and ensure that we understand the full context of the review respectively. "
   ]
  },
  {
   "cell_type": "code",
   "execution_count": null,
   "metadata": {
    "execution": {
     "iopub.execute_input": "2021-06-21T19:00:15.168640Z",
     "iopub.status.busy": "2021-06-21T19:00:15.168080Z",
     "iopub.status.idle": "2021-06-21T19:00:16.094523Z",
     "shell.execute_reply": "2021-06-21T19:00:16.093656Z",
     "shell.execute_reply.started": "2021-06-21T19:00:15.168601Z"
    }
   },
   "outputs": [],
   "source": [
    "wordcloud = WordCloud(stopwords = stopwords, background_color = 'white')\n",
    "wordcloud.generate(''.join(negative_text))\n",
    "plt.figure(figsize = (10, 10))\n",
    "plt.imshow(wordcloud)\n",
    "plt.show()"
   ]
  },
  {
   "cell_type": "code",
   "execution_count": null,
   "metadata": {
    "execution": {
     "iopub.execute_input": "2021-06-21T19:00:16.096242Z",
     "iopub.status.busy": "2021-06-21T19:00:16.095812Z",
     "iopub.status.idle": "2021-06-21T19:00:16.110328Z",
     "shell.execute_reply": "2021-06-21T19:00:16.109275Z",
     "shell.execute_reply.started": "2021-06-21T19:00:16.096209Z"
    }
   },
   "outputs": [],
   "source": [
    "df.head()"
   ]
  },
  {
   "cell_type": "code",
   "execution_count": null,
   "metadata": {
    "execution": {
     "iopub.execute_input": "2021-06-21T19:00:16.112122Z",
     "iopub.status.busy": "2021-06-21T19:00:16.111725Z",
     "iopub.status.idle": "2021-06-21T19:00:16.126399Z",
     "shell.execute_reply": "2021-06-21T19:00:16.125209Z",
     "shell.execute_reply.started": "2021-06-21T19:00:16.112078Z"
    }
   },
   "outputs": [],
   "source": [
    "negative_df.head()"
   ]
  },
  {
   "cell_type": "code",
   "execution_count": null,
   "metadata": {
    "execution": {
     "iopub.execute_input": "2021-06-21T19:00:16.128413Z",
     "iopub.status.busy": "2021-06-21T19:00:16.127988Z",
     "iopub.status.idle": "2021-06-21T19:00:16.141785Z",
     "shell.execute_reply": "2021-06-21T19:00:16.140817Z",
     "shell.execute_reply.started": "2021-06-21T19:00:16.128371Z"
    }
   },
   "outputs": [],
   "source": [
    "positive_df.head()"
   ]
  },
  {
   "cell_type": "markdown",
   "metadata": {},
   "source": [
    "## 5. List of Stopwords\n",
    "\n",
    "Let us now make a list of all the stopwords that we are going to be using for our machine learning purposes. We see that there are some good list of stopwords that I have taken from the link that is provided in the below cell. These would be used for the stopwords and ensure that we are getting the best results respectively. "
   ]
  },
  {
   "cell_type": "code",
   "execution_count": 160,
   "metadata": {
    "execution": {
     "iopub.execute_input": "2021-06-21T19:00:16.217865Z",
     "iopub.status.busy": "2021-06-21T19:00:16.217439Z",
     "iopub.status.idle": "2021-06-21T19:00:16.229554Z",
     "shell.execute_reply": "2021-06-21T19:00:16.228618Z",
     "shell.execute_reply.started": "2021-06-21T19:00:16.217827Z"
    }
   },
   "outputs": [],
   "source": [
    "# https://gist.github.com/sebleier/554280\n",
    "# we are removing the words from the stop words list: 'no', 'nor', 'not'\n",
    "stopwords= ['i', 'me', 'my', 'myself', 'we', 'our', 'ours', 'ourselves', 'you', \"you're\", \"you've\",\\\n",
    "            \"you'll\", \"you'd\", 'your', 'yours', 'yourself', 'yourselves', 'he', 'him', 'his', 'himself', \\\n",
    "            'she', \"she's\", 'her', 'hers', 'herself', 'it', \"it's\", 'its', 'itself', 'they', 'them', 'their',\\\n",
    "            'theirs', 'themselves', 'what', 'which', 'who', 'whom', 'this', 'that', \"that'll\", 'these', 'those', \\\n",
    "            'am', 'is', 'are', 'was', 'were', 'be', 'been', 'being', 'have', 'has', 'had', 'having', 'do', 'does', \\\n",
    "            'did', 'doing', 'a', 'an', 'the', 'and', 'but', 'if', 'or', 'because', 'as', 'until', 'while', 'of', \\\n",
    "            'at', 'by', 'for', 'with', 'about', 'against', 'between', 'into', 'through', 'during', 'before', 'after',\\\n",
    "            'above', 'below', 'to', 'from', 'up', 'down', 'in', 'out', 'on', 'off', 'over', 'under', 'again', 'further',\\\n",
    "            'then', 'once', 'here', 'there', 'when', 'where', 'why', 'how', 'all', 'any', 'both', 'each', 'few', 'more',\\\n",
    "            'most', 'other', 'some', 'such', 'only', 'own', 'same', 'so', 'than', 'too', 'very', \\\n",
    "            's', 't', 'can', 'will', 'just', 'don', \"don't\", 'should', \"should've\", 'now', 'd', 'll', 'm', 'o', 're', \\\n",
    "            've', 'y', 'ain', 'aren', \"aren't\", 'couldn', \"couldn't\", 'didn', \"didn't\", 'doesn', \"doesn't\", 'hadn',\\\n",
    "            \"hadn't\", 'hasn', \"hasn't\", 'haven', \"haven't\", 'isn', \"isn't\", 'ma', 'mightn', \"mightn't\", 'mustn',\\\n",
    "            \"mustn't\", 'needn', \"needn't\", 'shan', \"shan't\", 'shouldn', \"shouldn't\", 'wasn', \"wasn't\", 'weren', \"weren't\", \\\n",
    "            'won', \"won't\", 'wouldn', \"wouldn't\"]"
   ]
  },
  {
   "cell_type": "code",
   "execution_count": null,
   "metadata": {
    "execution": {
     "iopub.execute_input": "2021-06-21T19:00:16.231625Z",
     "iopub.status.busy": "2021-06-21T19:00:16.231136Z",
     "iopub.status.idle": "2021-06-21T19:00:16.248535Z",
     "shell.execute_reply": "2021-06-21T19:00:16.247467Z",
     "shell.execute_reply.started": "2021-06-21T19:00:16.231526Z"
    }
   },
   "outputs": [],
   "source": [
    "df.head()"
   ]
  },
  {
   "cell_type": "code",
   "execution_count": 162,
   "metadata": {
    "execution": {
     "iopub.execute_input": "2021-06-21T19:00:16.250671Z",
     "iopub.status.busy": "2021-06-21T19:00:16.250190Z",
     "iopub.status.idle": "2021-06-21T19:00:16.258989Z",
     "shell.execute_reply": "2021-06-21T19:00:16.258070Z",
     "shell.execute_reply.started": "2021-06-21T19:00:16.250634Z"
    }
   },
   "outputs": [],
   "source": [
    "df.drop(['textID'], axis = 1, inplace = True)"
   ]
  },
  {
   "cell_type": "code",
   "execution_count": null,
   "metadata": {
    "execution": {
     "iopub.execute_input": "2021-06-21T19:00:16.262282Z",
     "iopub.status.busy": "2021-06-21T19:00:16.262037Z",
     "iopub.status.idle": "2021-06-21T19:00:16.275468Z",
     "shell.execute_reply": "2021-06-21T19:00:16.274629Z",
     "shell.execute_reply.started": "2021-06-21T19:00:16.262259Z"
    }
   },
   "outputs": [],
   "source": [
    "df.head()"
   ]
  },
  {
   "cell_type": "code",
   "execution_count": 164,
   "metadata": {
    "execution": {
     "iopub.execute_input": "2021-06-21T19:00:16.277418Z",
     "iopub.status.busy": "2021-06-21T19:00:16.276921Z",
     "iopub.status.idle": "2021-06-21T19:00:16.285983Z",
     "shell.execute_reply": "2021-06-21T19:00:16.285040Z",
     "shell.execute_reply.started": "2021-06-21T19:00:16.277375Z"
    }
   },
   "outputs": [],
   "source": [
    "X = df.drop(['sentiment'], axis = 1)\n",
    "y = df['sentiment']"
   ]
  },
  {
   "cell_type": "markdown",
   "metadata": {},
   "source": [
    "## 6. Dividing the Data into Training and Cross Validation Data \n",
    "\n",
    "Now we are going to be dividing the data into training and cross validation data and ensure that we understand the machine learning model well. We are going to be dividing the data into 2 parts where 70 percent of the data is taken as the training data and the 30 percent of the data would be taken as the test data. There is a random state assigned to it and split to ensure that we get a good accuracy. "
   ]
  },
  {
   "cell_type": "code",
   "execution_count": 165,
   "metadata": {
    "execution": {
     "iopub.execute_input": "2021-06-21T19:00:16.289811Z",
     "iopub.status.busy": "2021-06-21T19:00:16.289503Z",
     "iopub.status.idle": "2021-06-21T19:00:16.301639Z",
     "shell.execute_reply": "2021-06-21T19:00:16.300747Z",
     "shell.execute_reply.started": "2021-06-21T19:00:16.289785Z"
    }
   },
   "outputs": [],
   "source": [
    "X_train, X_cv, y_train, y_cv = train_test_split(X, y, test_size = 0.3, random_state = 50)"
   ]
  },
  {
   "cell_type": "code",
   "execution_count": null,
   "metadata": {
    "execution": {
     "iopub.execute_input": "2021-06-21T19:00:16.303464Z",
     "iopub.status.busy": "2021-06-21T19:00:16.303084Z",
     "iopub.status.idle": "2021-06-21T19:00:16.308703Z",
     "shell.execute_reply": "2021-06-21T19:00:16.307778Z",
     "shell.execute_reply.started": "2021-06-21T19:00:16.303428Z"
    }
   },
   "outputs": [],
   "source": [
    "X_train.shape"
   ]
  },
  {
   "cell_type": "code",
   "execution_count": null,
   "metadata": {
    "execution": {
     "iopub.execute_input": "2021-06-21T19:00:16.310615Z",
     "iopub.status.busy": "2021-06-21T19:00:16.309932Z",
     "iopub.status.idle": "2021-06-21T19:00:16.319795Z",
     "shell.execute_reply": "2021-06-21T19:00:16.318770Z",
     "shell.execute_reply.started": "2021-06-21T19:00:16.310574Z"
    }
   },
   "outputs": [],
   "source": [
    "X_cv.shape"
   ]
  },
  {
   "cell_type": "markdown",
   "metadata": {},
   "source": [
    "## 7. Function for Replacing Words\n",
    "\n",
    "There is a separate function that is being used to replace the words and substitute them with the other words to ensure that we get the best machine learning results respectively. "
   ]
  },
  {
   "cell_type": "code",
   "execution_count": 168,
   "metadata": {
    "execution": {
     "iopub.execute_input": "2021-06-21T19:00:16.335707Z",
     "iopub.status.busy": "2021-06-21T19:00:16.335252Z",
     "iopub.status.idle": "2021-06-21T19:00:16.343763Z",
     "shell.execute_reply": "2021-06-21T19:00:16.342660Z",
     "shell.execute_reply.started": "2021-06-21T19:00:16.335667Z"
    }
   },
   "outputs": [],
   "source": [
    "\n",
    "# https://stackoverflow.com/a/47091490/4084039\n",
    "import re\n",
    "\n",
    "def decontracted(phrase):\n",
    "    # specific\n",
    "    phrase = re.sub(r\"won't\", \"will not\", phrase)\n",
    "    phrase = re.sub(r\"can\\'t\", \"can not\", phrase)\n",
    "\n",
    "    # general\n",
    "    phrase = re.sub(r\"n\\'t\", \" not\", phrase)\n",
    "    phrase = re.sub(r\"\\'re\", \" are\", phrase)\n",
    "    phrase = re.sub(r\"\\'s\", \" is\", phrase)\n",
    "    phrase = re.sub(r\"\\'d\", \" would\", phrase)\n",
    "    phrase = re.sub(r\"\\'ll\", \" will\", phrase)\n",
    "    phrase = re.sub(r\"\\'t\", \" not\", phrase)\n",
    "    phrase = re.sub(r\"\\'ve\", \" have\", phrase)\n",
    "    phrase = re.sub(r\"\\'m\", \" am\", phrase)\n",
    "    return phrase"
   ]
  },
  {
   "cell_type": "code",
   "execution_count": null,
   "metadata": {
    "execution": {
     "iopub.execute_input": "2021-06-21T19:00:16.345879Z",
     "iopub.status.busy": "2021-06-21T19:00:16.345339Z",
     "iopub.status.idle": "2021-06-21T19:00:22.041867Z",
     "shell.execute_reply": "2021-06-21T19:00:22.040560Z",
     "shell.execute_reply.started": "2021-06-21T19:00:16.345840Z"
    }
   },
   "outputs": [],
   "source": [
    "%pip install tqdm"
   ]
  },
  {
   "cell_type": "markdown",
   "metadata": {},
   "source": [
    "## 8. Preprocessing the Text \n",
    "\n",
    "It is now time to preprocess the text and understand the output. We are going to be using the above functions and also estimate the time it takes to complete the entire preprocessing respectively. Taking into account the different preprocessing text values, we are going to be appending those values and understanding the output respectively. "
   ]
  },
  {
   "cell_type": "code",
   "execution_count": null,
   "metadata": {
    "execution": {
     "iopub.execute_input": "2021-06-21T19:00:22.044057Z",
     "iopub.status.busy": "2021-06-21T19:00:22.043666Z",
     "iopub.status.idle": "2021-06-21T19:00:22.845737Z",
     "shell.execute_reply": "2021-06-21T19:00:22.844953Z",
     "shell.execute_reply.started": "2021-06-21T19:00:22.044012Z"
    }
   },
   "outputs": [],
   "source": [
    "# Combining all the above stundents \n",
    "from tqdm import tqdm\n",
    "preprocessed_text = []\n",
    "# tqdm is for printing the status bar\n",
    "for sentence in tqdm(X_train['text'].values):\n",
    "    sent = decontracted(sentence)\n",
    "    sent = re.sub('[^A-Za-z0-9]+', ' ', sent)\n",
    "    # https://gist.github.com/sebleier/554280\n",
    "    sent = ' '.join(e for e in sent.split() if e.lower() not in stopwords)\n",
    "    preprocessed_text.append(sent.lower().strip())"
   ]
  },
  {
   "cell_type": "code",
   "execution_count": null,
   "metadata": {
    "execution": {
     "iopub.execute_input": "2021-06-21T19:00:22.848792Z",
     "iopub.status.busy": "2021-06-21T19:00:22.848506Z",
     "iopub.status.idle": "2021-06-21T19:00:22.856305Z",
     "shell.execute_reply": "2021-06-21T19:00:22.855099Z",
     "shell.execute_reply.started": "2021-06-21T19:00:22.848762Z"
    }
   },
   "outputs": [],
   "source": [
    "preprocessed_text[0: 5]"
   ]
  },
  {
   "cell_type": "code",
   "execution_count": 172,
   "metadata": {
    "execution": {
     "iopub.execute_input": "2021-06-21T19:00:22.858481Z",
     "iopub.status.busy": "2021-06-21T19:00:22.857979Z",
     "iopub.status.idle": "2021-06-21T19:00:28.336823Z",
     "shell.execute_reply": "2021-06-21T19:00:28.335923Z",
     "shell.execute_reply.started": "2021-06-21T19:00:22.858439Z"
    }
   },
   "outputs": [],
   "source": [
    "for i in range(len(X_train)):\n",
    "    X_train['text'].iloc[i] = preprocessed_text[i]"
   ]
  },
  {
   "cell_type": "code",
   "execution_count": null,
   "metadata": {
    "execution": {
     "iopub.execute_input": "2021-06-21T19:00:28.338478Z",
     "iopub.status.busy": "2021-06-21T19:00:28.338110Z",
     "iopub.status.idle": "2021-06-21T19:00:28.350494Z",
     "shell.execute_reply": "2021-06-21T19:00:28.349525Z",
     "shell.execute_reply.started": "2021-06-21T19:00:28.338439Z"
    }
   },
   "outputs": [],
   "source": [
    "X_train.head()"
   ]
  },
  {
   "cell_type": "code",
   "execution_count": null,
   "metadata": {
    "execution": {
     "iopub.execute_input": "2021-06-21T19:00:28.353111Z",
     "iopub.status.busy": "2021-06-21T19:00:28.352217Z",
     "iopub.status.idle": "2021-06-21T19:00:28.711913Z",
     "shell.execute_reply": "2021-06-21T19:00:28.710878Z",
     "shell.execute_reply.started": "2021-06-21T19:00:28.353070Z"
    }
   },
   "outputs": [],
   "source": [
    "# Combining all the above stundents \n",
    "from tqdm import tqdm\n",
    "preprocessed_text = []\n",
    "# tqdm is for printing the status bar\n",
    "for sentence in tqdm(X_cv['text'].values):\n",
    "    sent = decontracted(sentence)\n",
    "    sent = re.sub('[^A-Za-z0-9]+', ' ', sent)\n",
    "    # https://gist.github.com/sebleier/554280\n",
    "    sent = ' '.join(e for e in sent.split() if e.lower() not in stopwords)\n",
    "    preprocessed_text.append(sent.lower().strip())"
   ]
  },
  {
   "cell_type": "code",
   "execution_count": null,
   "metadata": {
    "execution": {
     "iopub.execute_input": "2021-06-21T19:00:28.714149Z",
     "iopub.status.busy": "2021-06-21T19:00:28.713553Z",
     "iopub.status.idle": "2021-06-21T19:00:28.720360Z",
     "shell.execute_reply": "2021-06-21T19:00:28.719322Z",
     "shell.execute_reply.started": "2021-06-21T19:00:28.714106Z"
    }
   },
   "outputs": [],
   "source": [
    "preprocessed_text[0: 5]"
   ]
  },
  {
   "cell_type": "code",
   "execution_count": 176,
   "metadata": {
    "execution": {
     "iopub.execute_input": "2021-06-21T19:00:28.722334Z",
     "iopub.status.busy": "2021-06-21T19:00:28.721943Z",
     "iopub.status.idle": "2021-06-21T19:00:30.858156Z",
     "shell.execute_reply": "2021-06-21T19:00:30.857278Z",
     "shell.execute_reply.started": "2021-06-21T19:00:28.722293Z"
    }
   },
   "outputs": [],
   "source": [
    "for i in range(len(X_cv)):\n",
    "    X_cv['text'].iloc[i] = preprocessed_text[i]"
   ]
  },
  {
   "cell_type": "code",
   "execution_count": null,
   "metadata": {
    "execution": {
     "iopub.execute_input": "2021-06-21T19:00:30.859939Z",
     "iopub.status.busy": "2021-06-21T19:00:30.859581Z",
     "iopub.status.idle": "2021-06-21T19:00:30.871010Z",
     "shell.execute_reply": "2021-06-21T19:00:30.869987Z",
     "shell.execute_reply.started": "2021-06-21T19:00:30.859901Z"
    }
   },
   "outputs": [],
   "source": [
    "X_cv.head()"
   ]
  },
  {
   "cell_type": "code",
   "execution_count": 178,
   "metadata": {
    "execution": {
     "iopub.execute_input": "2021-06-21T19:00:30.872857Z",
     "iopub.status.busy": "2021-06-21T19:00:30.872424Z",
     "iopub.status.idle": "2021-06-21T19:00:30.973184Z",
     "shell.execute_reply": "2021-06-21T19:00:30.972442Z",
     "shell.execute_reply.started": "2021-06-21T19:00:30.872818Z"
    }
   },
   "outputs": [],
   "source": [
    "binarizer = LabelBinarizer()\n",
    "y_train_converted = binarizer.fit_transform(y_train)\n",
    "binarizer = LabelBinarizer()\n",
    "y_cv_converted = binarizer.fit_transform(y_cv)"
   ]
  },
  {
   "cell_type": "code",
   "execution_count": null,
   "metadata": {
    "execution": {
     "iopub.execute_input": "2021-06-21T19:00:30.974762Z",
     "iopub.status.busy": "2021-06-21T19:00:30.974418Z",
     "iopub.status.idle": "2021-06-21T19:00:30.980015Z",
     "shell.execute_reply": "2021-06-21T19:00:30.979208Z",
     "shell.execute_reply.started": "2021-06-21T19:00:30.974726Z"
    }
   },
   "outputs": [],
   "source": [
    "y_cv_converted"
   ]
  },
  {
   "cell_type": "markdown",
   "metadata": {},
   "source": [
    "## 9. Tfidf Vectorizer\n",
    "\n",
    "With the help of Tfidf Vectorizer, it is easy to convert the text into the form of vector based on the word frequency and the inverse document frequency and get those values which could be fed to the machine learning models for prediction respectively. Having a look at those values, we are going to be taking them and predicting using the machine learning approach. "
   ]
  },
  {
   "cell_type": "code",
   "execution_count": 180,
   "metadata": {
    "execution": {
     "iopub.execute_input": "2021-06-21T19:00:30.981955Z",
     "iopub.status.busy": "2021-06-21T19:00:30.981388Z",
     "iopub.status.idle": "2021-06-21T19:00:31.323447Z",
     "shell.execute_reply": "2021-06-21T19:00:31.322543Z",
     "shell.execute_reply.started": "2021-06-21T19:00:30.981910Z"
    }
   },
   "outputs": [],
   "source": [
    "vectorizer = TfidfVectorizer()\n",
    "X_train_text = vectorizer.fit_transform(X_train['text'])\n",
    "X_cv_text = vectorizer.transform(X_cv['text'])"
   ]
  },
  {
   "cell_type": "code",
   "execution_count": null,
   "metadata": {
    "execution": {
     "iopub.execute_input": "2021-06-21T19:00:31.325177Z",
     "iopub.status.busy": "2021-06-21T19:00:31.324816Z",
     "iopub.status.idle": "2021-06-21T19:00:31.331325Z",
     "shell.execute_reply": "2021-06-21T19:00:31.330311Z",
     "shell.execute_reply.started": "2021-06-21T19:00:31.325136Z"
    }
   },
   "outputs": [],
   "source": [
    "X_train_text.shape"
   ]
  },
  {
   "cell_type": "code",
   "execution_count": null,
   "metadata": {
    "execution": {
     "iopub.execute_input": "2021-06-21T19:00:31.333094Z",
     "iopub.status.busy": "2021-06-21T19:00:31.332709Z",
     "iopub.status.idle": "2021-06-21T19:00:31.344371Z",
     "shell.execute_reply": "2021-06-21T19:00:31.343123Z",
     "shell.execute_reply.started": "2021-06-21T19:00:31.333057Z"
    }
   },
   "outputs": [],
   "source": [
    "X_train_text[0: 5]"
   ]
  },
  {
   "cell_type": "markdown",
   "metadata": {},
   "source": [
    "## 10. Neural Network Model for Prediction \n",
    "\n",
    "We are going to be defining the neural network model and predicting the chances of a person suffering from a heart disease. Taking a look at the data, we see that there are different activation units that we are going to be working with and then, we are going to use the categorical cross entropy as this is a multiclass classification problem. There can be more metrics that we might take but let us deal with accuracy for now and use the adam optimizer respectively. "
   ]
  },
  {
   "cell_type": "code",
   "execution_count": 183,
   "metadata": {
    "execution": {
     "iopub.execute_input": "2021-06-21T19:00:31.346247Z",
     "iopub.status.busy": "2021-06-21T19:00:31.345878Z",
     "iopub.status.idle": "2021-06-21T19:00:31.400522Z",
     "shell.execute_reply": "2021-06-21T19:00:31.399494Z",
     "shell.execute_reply.started": "2021-06-21T19:00:31.346208Z"
    }
   },
   "outputs": [],
   "source": [
    "model = Sequential()\n",
    "model.add(Dense(100, activation = 'relu', input_shape = (20619,)))\n",
    "model.add(Dense(50, activation = 'relu'))\n",
    "model.add(Dense(25, activation = 'relu'))\n",
    "model.add(Dense(10, activation = 'relu'))\n",
    "model.add(Dense(1, activation = 'sigmoid'))\n",
    "\n",
    "model.compile(loss = 'categorical_crossentropy', metrics = ['accuracy'], optimizer = 'adam')"
   ]
  },
  {
   "cell_type": "code",
   "execution_count": null,
   "metadata": {
    "execution": {
     "iopub.execute_input": "2021-06-21T19:00:31.402125Z",
     "iopub.status.busy": "2021-06-21T19:00:31.401766Z",
     "iopub.status.idle": "2021-06-21T19:00:31.411914Z",
     "shell.execute_reply": "2021-06-21T19:00:31.410963Z",
     "shell.execute_reply.started": "2021-06-21T19:00:31.402087Z"
    }
   },
   "outputs": [],
   "source": [
    "to_categorical(np.arange(1, 10))"
   ]
  },
  {
   "cell_type": "code",
   "execution_count": null,
   "metadata": {
    "execution": {
     "iopub.execute_input": "2021-06-21T19:00:31.420170Z",
     "iopub.status.busy": "2021-06-21T19:00:31.419833Z",
     "iopub.status.idle": "2021-06-21T19:00:31.427565Z",
     "shell.execute_reply": "2021-06-21T19:00:31.426465Z",
     "shell.execute_reply.started": "2021-06-21T19:00:31.420142Z"
    }
   },
   "outputs": [],
   "source": [
    "y_train"
   ]
  },
  {
   "cell_type": "markdown",
   "metadata": {},
   "source": [
    "We are now going to be converting the output values in a series format so that we can give these values to the neural network models that we would be working respectively. "
   ]
  },
  {
   "cell_type": "code",
   "execution_count": 186,
   "metadata": {
    "execution": {
     "iopub.execute_input": "2021-06-21T19:00:31.430835Z",
     "iopub.status.busy": "2021-06-21T19:00:31.430422Z",
     "iopub.status.idle": "2021-06-21T19:00:31.443730Z",
     "shell.execute_reply": "2021-06-21T19:00:31.442873Z",
     "shell.execute_reply.started": "2021-06-21T19:00:31.430794Z"
    }
   },
   "outputs": [],
   "source": [
    "encoder = LabelEncoder()\n",
    "y_train_converted = encoder.fit_transform(y_train)\n"
   ]
  },
  {
   "cell_type": "code",
   "execution_count": null,
   "metadata": {
    "execution": {
     "iopub.execute_input": "2021-06-21T19:00:31.445596Z",
     "iopub.status.busy": "2021-06-21T19:00:31.445183Z",
     "iopub.status.idle": "2021-06-21T19:00:31.455433Z",
     "shell.execute_reply": "2021-06-21T19:00:31.454305Z",
     "shell.execute_reply.started": "2021-06-21T19:00:31.445556Z"
    }
   },
   "outputs": [],
   "source": [
    "y_train_converted"
   ]
  },
  {
   "cell_type": "code",
   "execution_count": 188,
   "metadata": {
    "execution": {
     "iopub.execute_input": "2021-06-21T19:00:31.457581Z",
     "iopub.status.busy": "2021-06-21T19:00:31.456835Z",
     "iopub.status.idle": "2021-06-21T19:00:31.464286Z",
     "shell.execute_reply": "2021-06-21T19:00:31.463392Z",
     "shell.execute_reply.started": "2021-06-21T19:00:31.457536Z"
    }
   },
   "outputs": [],
   "source": [
    "y_train_final = to_categorical(y_train_converted)"
   ]
  },
  {
   "cell_type": "code",
   "execution_count": null,
   "metadata": {
    "execution": {
     "iopub.execute_input": "2021-06-21T19:00:31.466149Z",
     "iopub.status.busy": "2021-06-21T19:00:31.465772Z",
     "iopub.status.idle": "2021-06-21T19:00:31.479647Z",
     "shell.execute_reply": "2021-06-21T19:00:31.478768Z",
     "shell.execute_reply.started": "2021-06-21T19:00:31.466113Z"
    }
   },
   "outputs": [],
   "source": [
    "X_train.head()"
   ]
  },
  {
   "cell_type": "code",
   "execution_count": 190,
   "metadata": {
    "execution": {
     "iopub.execute_input": "2021-06-21T19:00:31.481616Z",
     "iopub.status.busy": "2021-06-21T19:00:31.481143Z",
     "iopub.status.idle": "2021-06-21T19:00:31.488805Z",
     "shell.execute_reply": "2021-06-21T19:00:31.487874Z",
     "shell.execute_reply.started": "2021-06-21T19:00:31.481565Z"
    }
   },
   "outputs": [],
   "source": [
    "X_train_dropped = X_train.drop(['text'], axis = 1)"
   ]
  },
  {
   "cell_type": "code",
   "execution_count": null,
   "metadata": {
    "execution": {
     "iopub.execute_input": "2021-06-21T19:00:31.491814Z",
     "iopub.status.busy": "2021-06-21T19:00:31.491119Z",
     "iopub.status.idle": "2021-06-21T19:00:31.503972Z",
     "shell.execute_reply": "2021-06-21T19:00:31.503023Z",
     "shell.execute_reply.started": "2021-06-21T19:00:31.491772Z"
    }
   },
   "outputs": [],
   "source": [
    "X_train.head()"
   ]
  },
  {
   "cell_type": "code",
   "execution_count": null,
   "metadata": {
    "execution": {
     "iopub.execute_input": "2021-06-21T19:00:31.505974Z",
     "iopub.status.busy": "2021-06-21T19:00:31.505521Z",
     "iopub.status.idle": "2021-06-21T19:00:31.514505Z",
     "shell.execute_reply": "2021-06-21T19:00:31.513319Z",
     "shell.execute_reply.started": "2021-06-21T19:00:31.505935Z"
    }
   },
   "outputs": [],
   "source": [
    "X_train['text'].head()"
   ]
  },
  {
   "cell_type": "code",
   "execution_count": 193,
   "metadata": {
    "execution": {
     "iopub.execute_input": "2021-06-21T19:00:31.516653Z",
     "iopub.status.busy": "2021-06-21T19:00:31.516161Z",
     "iopub.status.idle": "2021-06-21T19:00:31.522871Z",
     "shell.execute_reply": "2021-06-21T19:00:31.521898Z",
     "shell.execute_reply.started": "2021-06-21T19:00:31.516506Z"
    }
   },
   "outputs": [],
   "source": [
    "X_train_dropped = X_train.drop(['text'], axis = 1)"
   ]
  },
  {
   "cell_type": "code",
   "execution_count": null,
   "metadata": {
    "execution": {
     "iopub.execute_input": "2021-06-21T19:00:31.525392Z",
     "iopub.status.busy": "2021-06-21T19:00:31.524580Z",
     "iopub.status.idle": "2021-06-21T19:00:31.536920Z",
     "shell.execute_reply": "2021-06-21T19:00:31.536060Z",
     "shell.execute_reply.started": "2021-06-21T19:00:31.525317Z"
    }
   },
   "outputs": [],
   "source": [
    "X_train_dropped.head()"
   ]
  },
  {
   "cell_type": "code",
   "execution_count": null,
   "metadata": {
    "execution": {
     "iopub.execute_input": "2021-06-21T19:00:31.538188Z",
     "iopub.status.busy": "2021-06-21T19:00:31.537927Z",
     "iopub.status.idle": "2021-06-21T19:00:31.551569Z",
     "shell.execute_reply": "2021-06-21T19:00:31.550458Z",
     "shell.execute_reply.started": "2021-06-21T19:00:31.538157Z"
    }
   },
   "outputs": [],
   "source": [
    "X_cv.head()"
   ]
  },
  {
   "cell_type": "code",
   "execution_count": 196,
   "metadata": {
    "execution": {
     "iopub.execute_input": "2021-06-21T19:00:31.553683Z",
     "iopub.status.busy": "2021-06-21T19:00:31.553164Z",
     "iopub.status.idle": "2021-06-21T19:00:31.559933Z",
     "shell.execute_reply": "2021-06-21T19:00:31.558715Z",
     "shell.execute_reply.started": "2021-06-21T19:00:31.553644Z"
    }
   },
   "outputs": [],
   "source": [
    "X_cv_dropped = X_cv.drop(['text'], axis = 1)"
   ]
  },
  {
   "cell_type": "code",
   "execution_count": null,
   "metadata": {
    "execution": {
     "iopub.execute_input": "2021-06-21T19:00:31.562072Z",
     "iopub.status.busy": "2021-06-21T19:00:31.561583Z",
     "iopub.status.idle": "2021-06-21T19:00:31.573459Z",
     "shell.execute_reply": "2021-06-21T19:00:31.572354Z",
     "shell.execute_reply.started": "2021-06-21T19:00:31.562028Z"
    }
   },
   "outputs": [],
   "source": [
    "X_cv_dropped.head()"
   ]
  },
  {
   "cell_type": "markdown",
   "metadata": {},
   "source": [
    "We are going to be converting the values from 0 to 1 respectively. We would have to be converting those values so that it becomes easy to perform machine learning analysis and this ensures that there is no gradient shifting and having different range of weights when performing the machine learning analysis respectively."
   ]
  },
  {
   "cell_type": "code",
   "execution_count": 198,
   "metadata": {
    "execution": {
     "iopub.execute_input": "2021-06-21T19:00:31.575611Z",
     "iopub.status.busy": "2021-06-21T19:00:31.575202Z",
     "iopub.status.idle": "2021-06-21T19:00:31.588029Z",
     "shell.execute_reply": "2021-06-21T19:00:31.587072Z",
     "shell.execute_reply.started": "2021-06-21T19:00:31.575572Z"
    }
   },
   "outputs": [],
   "source": [
    "scaler = MinMaxScaler()\n",
    "X_train_final = scaler.fit_transform(X_train_dropped)\n",
    "X_cv_final = scaler.transform(X_cv_dropped)"
   ]
  },
  {
   "cell_type": "code",
   "execution_count": null,
   "metadata": {
    "execution": {
     "iopub.execute_input": "2021-06-21T19:00:31.590783Z",
     "iopub.status.busy": "2021-06-21T19:00:31.590100Z",
     "iopub.status.idle": "2021-06-21T19:00:31.597607Z",
     "shell.execute_reply": "2021-06-21T19:00:31.596444Z",
     "shell.execute_reply.started": "2021-06-21T19:00:31.590717Z"
    }
   },
   "outputs": [],
   "source": [
    "X_train_final[0: 5]"
   ]
  },
  {
   "cell_type": "code",
   "execution_count": null,
   "metadata": {
    "execution": {
     "iopub.execute_input": "2021-06-21T19:00:31.599885Z",
     "iopub.status.busy": "2021-06-21T19:00:31.599453Z",
     "iopub.status.idle": "2021-06-21T19:00:31.606622Z",
     "shell.execute_reply": "2021-06-21T19:00:31.605448Z",
     "shell.execute_reply.started": "2021-06-21T19:00:31.599845Z"
    }
   },
   "outputs": [],
   "source": [
    "X_cv_final[0: 5]"
   ]
  },
  {
   "cell_type": "code",
   "execution_count": 201,
   "metadata": {
    "execution": {
     "iopub.execute_input": "2021-06-21T19:00:31.608955Z",
     "iopub.status.busy": "2021-06-21T19:00:31.608218Z",
     "iopub.status.idle": "2021-06-21T19:00:31.623577Z",
     "shell.execute_reply": "2021-06-21T19:00:31.622818Z",
     "shell.execute_reply.started": "2021-06-21T19:00:31.608913Z"
    }
   },
   "outputs": [],
   "source": [
    "encoder = LabelEncoder()\n",
    "y_train_encoded = encoder.fit_transform(y_train)\n",
    "\n",
    "encoder = LabelEncoder()\n",
    "y_cv_encoded = encoder.fit_transform(y_cv)"
   ]
  },
  {
   "cell_type": "code",
   "execution_count": 202,
   "metadata": {
    "execution": {
     "iopub.execute_input": "2021-06-21T19:00:31.625681Z",
     "iopub.status.busy": "2021-06-21T19:00:31.625151Z",
     "iopub.status.idle": "2021-06-21T19:00:31.634169Z",
     "shell.execute_reply": "2021-06-21T19:00:31.633089Z",
     "shell.execute_reply.started": "2021-06-21T19:00:31.625641Z"
    }
   },
   "outputs": [],
   "source": [
    "y_train_final = to_categorical(y_train_encoded)\n",
    "y_cv_final = to_categorical(y_cv_encoded)"
   ]
  },
  {
   "cell_type": "code",
   "execution_count": null,
   "metadata": {
    "execution": {
     "iopub.execute_input": "2021-06-21T19:00:31.637748Z",
     "iopub.status.busy": "2021-06-21T19:00:31.637477Z",
     "iopub.status.idle": "2021-06-21T19:00:31.645756Z",
     "shell.execute_reply": "2021-06-21T19:00:31.644476Z",
     "shell.execute_reply.started": "2021-06-21T19:00:31.637718Z"
    }
   },
   "outputs": [],
   "source": [
    "y_train_final[0: 5]"
   ]
  },
  {
   "cell_type": "code",
   "execution_count": null,
   "metadata": {
    "execution": {
     "iopub.execute_input": "2021-06-21T19:00:31.647957Z",
     "iopub.status.busy": "2021-06-21T19:00:31.647521Z",
     "iopub.status.idle": "2021-06-21T19:00:31.654765Z",
     "shell.execute_reply": "2021-06-21T19:00:31.653718Z",
     "shell.execute_reply.started": "2021-06-21T19:00:31.647919Z"
    }
   },
   "outputs": [],
   "source": [
    "y_cv_final[0: 5]"
   ]
  },
  {
   "cell_type": "code",
   "execution_count": null,
   "metadata": {
    "execution": {
     "iopub.execute_input": "2021-06-21T19:00:31.657243Z",
     "iopub.status.busy": "2021-06-21T19:00:31.656463Z",
     "iopub.status.idle": "2021-06-21T19:00:31.664998Z",
     "shell.execute_reply": "2021-06-21T19:00:31.663747Z",
     "shell.execute_reply.started": "2021-06-21T19:00:31.657203Z"
    }
   },
   "outputs": [],
   "source": [
    "X_train_final[0: 5]"
   ]
  },
  {
   "cell_type": "code",
   "execution_count": null,
   "metadata": {
    "execution": {
     "iopub.execute_input": "2021-06-21T19:00:31.667443Z",
     "iopub.status.busy": "2021-06-21T19:00:31.666938Z",
     "iopub.status.idle": "2021-06-21T19:00:31.680710Z",
     "shell.execute_reply": "2021-06-21T19:00:31.679633Z",
     "shell.execute_reply.started": "2021-06-21T19:00:31.667401Z"
    }
   },
   "outputs": [],
   "source": [
    "X_train.head()"
   ]
  },
  {
   "cell_type": "markdown",
   "metadata": {},
   "source": [
    "## 11. Count Vectorizer\n",
    "\n",
    "Now we are going to be using the bag of words to understand the text and get a good knowledge about it. Since the data that is given to the machine learning models need to be in the form of vectors, it would be good to convert the text values into different vectors so that it becomes easy for the machine learning models to perform the computations respectively."
   ]
  },
  {
   "cell_type": "code",
   "execution_count": 207,
   "metadata": {
    "execution": {
     "iopub.execute_input": "2021-06-21T19:00:31.682603Z",
     "iopub.status.busy": "2021-06-21T19:00:31.682133Z",
     "iopub.status.idle": "2021-06-21T19:00:32.032140Z",
     "shell.execute_reply": "2021-06-21T19:00:32.031172Z",
     "shell.execute_reply.started": "2021-06-21T19:00:31.682561Z"
    }
   },
   "outputs": [],
   "source": [
    "vectorizer = CountVectorizer()\n",
    "X_train_vectorized = vectorizer.fit_transform(X_train['text'])\n",
    "X_cv_vectorized = vectorizer.transform(X_cv['text'])"
   ]
  },
  {
   "cell_type": "code",
   "execution_count": null,
   "metadata": {
    "execution": {
     "iopub.execute_input": "2021-06-21T19:00:32.034284Z",
     "iopub.status.busy": "2021-06-21T19:00:32.033895Z",
     "iopub.status.idle": "2021-06-21T19:00:32.040415Z",
     "shell.execute_reply": "2021-06-21T19:00:32.039394Z",
     "shell.execute_reply.started": "2021-06-21T19:00:32.034243Z"
    }
   },
   "outputs": [],
   "source": [
    "X_train_vectorized"
   ]
  },
  {
   "cell_type": "code",
   "execution_count": null,
   "metadata": {
    "execution": {
     "iopub.execute_input": "2021-06-21T19:00:32.042682Z",
     "iopub.status.busy": "2021-06-21T19:00:32.042202Z",
     "iopub.status.idle": "2021-06-21T19:00:32.053268Z",
     "shell.execute_reply": "2021-06-21T19:00:32.052038Z",
     "shell.execute_reply.started": "2021-06-21T19:00:32.042639Z"
    }
   },
   "outputs": [],
   "source": [
    "X_train_final[0: 5]"
   ]
  },
  {
   "cell_type": "markdown",
   "metadata": {},
   "source": [
    "Since the values that we have are not in the form of arrays and in the form of sparse matrices, it would be a good idea to convert the values into the form of arrays so that it becomes easy for the machine learning models to make the predictions and ensure that they are getting the best predictions. "
   ]
  },
  {
   "cell_type": "code",
   "execution_count": 210,
   "metadata": {
    "execution": {
     "iopub.execute_input": "2021-06-21T19:00:32.055541Z",
     "iopub.status.busy": "2021-06-21T19:00:32.055030Z",
     "iopub.status.idle": "2021-06-21T19:00:32.430003Z",
     "shell.execute_reply": "2021-06-21T19:00:32.429079Z",
     "shell.execute_reply.started": "2021-06-21T19:00:32.055499Z"
    }
   },
   "outputs": [],
   "source": [
    "X_train_bow_toarray = X_train_vectorized.toarray()\n",
    "X_cv_bow_toarray = X_cv_vectorized.toarray()"
   ]
  },
  {
   "cell_type": "markdown",
   "metadata": {},
   "source": [
    "We have formed the arrays that we would be using and now it is time to understand the matrices and concatenate them so that we are going to perform the machine learning analysis respectively. We are now going to be using the deep neural networks and this would ensure that we are getting the best results respectively. "
   ]
  },
  {
   "cell_type": "code",
   "execution_count": 211,
   "metadata": {
    "execution": {
     "iopub.execute_input": "2021-06-21T19:00:32.431912Z",
     "iopub.status.busy": "2021-06-21T19:00:32.431497Z",
     "iopub.status.idle": "2021-06-21T19:00:34.413882Z",
     "shell.execute_reply": "2021-06-21T19:00:34.412914Z",
     "shell.execute_reply.started": "2021-06-21T19:00:32.431826Z"
    }
   },
   "outputs": [],
   "source": [
    "X_train_new = np.concatenate((X_train_bow_toarray, X_train_final), axis = 1)\n",
    "X_cv_new = np.concatenate((X_cv_bow_toarray, X_cv_final), axis = 1)"
   ]
  },
  {
   "cell_type": "markdown",
   "metadata": {},
   "source": [
    "## 12. Neutral Network Model \n",
    "\n",
    "We would now be using the deep neural networks that we are going to be learning and ensure that we are getting the best predictions respectively. We would start with 100 neutrons from the first layer and followed by 25 neutrons in the second layer and 10 units in the third layer followed by 3 final layers which we are going to be using the softmax classifier for predictions respectively. "
   ]
  },
  {
   "cell_type": "code",
   "execution_count": 212,
   "metadata": {
    "execution": {
     "iopub.execute_input": "2021-06-21T19:00:34.415723Z",
     "iopub.status.busy": "2021-06-21T19:00:34.415324Z",
     "iopub.status.idle": "2021-06-21T19:00:34.440214Z",
     "shell.execute_reply": "2021-06-21T19:00:34.439441Z",
     "shell.execute_reply.started": "2021-06-21T19:00:34.415680Z"
    }
   },
   "outputs": [],
   "source": [
    "model = Sequential()\n",
    "model.add(Dense(100, activation = 'relu'))\n",
    "model.add(Dropout(0.3))\n",
    "model.add(Dense(25, activation = 'relu'))\n",
    "model.add(Dropout(0.5))\n",
    "model.add(Dense(10, activation = 'relu'))\n",
    "model.add(Dropout(0.3))\n",
    "model.add(Dense(3, activation = 'softmax'))\n",
    "model.compile(loss = 'categorical_crossentropy', metrics = ['accuracy'], optimizer = 'adam')\n",
    "\n"
   ]
  },
  {
   "cell_type": "markdown",
   "metadata": {},
   "source": [
    "We would be running the deep neutral network model for 10 epochs to ensure that we are going to be getting the best results in the test set respectively. We are also going to give the cross validation data and see how our model would be performing with the cross validation data, taking into account different parameters such as accuracy and cross validation loss respectively. "
   ]
  },
  {
   "cell_type": "code",
   "execution_count": null,
   "metadata": {
    "execution": {
     "iopub.execute_input": "2021-06-21T19:00:34.441944Z",
     "iopub.status.busy": "2021-06-21T19:00:34.441512Z",
     "iopub.status.idle": "2021-06-21T19:01:05.247187Z",
     "shell.execute_reply": "2021-06-21T19:01:05.246290Z",
     "shell.execute_reply.started": "2021-06-21T19:00:34.441904Z"
    }
   },
   "outputs": [],
   "source": [
    "model.fit(X_train_new, y_train_final, epochs = 10, validation_data = (X_cv_new, y_cv_final))"
   ]
  },
  {
   "cell_type": "markdown",
   "metadata": {},
   "source": [
    "## 13. Plots of the Results \n",
    "\n",
    "We would now be looking at the deep neural network plots and see how the values of accuracy and loss change with respect to the number of epochs that we are running. We see that as the number of epochs increase, there seems to be overfitting where the cross validation loss tends to go higher though there is a decrease in the training loss respectively. This gives us a clear indication that the model is overfitting after certain number of epochs are met. Therefore, we would be taking the right number of epochs when we are performing the machine learning analysis. "
   ]
  },
  {
   "cell_type": "code",
   "execution_count": null,
   "metadata": {
    "execution": {
     "iopub.execute_input": "2021-06-21T19:01:05.250052Z",
     "iopub.status.busy": "2021-06-21T19:01:05.249732Z",
     "iopub.status.idle": "2021-06-21T19:01:05.583036Z",
     "shell.execute_reply": "2021-06-21T19:01:05.582220Z",
     "shell.execute_reply.started": "2021-06-21T19:01:05.250024Z"
    }
   },
   "outputs": [],
   "source": [
    "accuracy = model.history.history['accuracy']\n",
    "val_accuracy = model.history.history['val_accuracy']\n",
    "loss = model.history.history['loss']\n",
    "val_loss = model.history.history['val_loss']\n",
    "epochs = np.arange(1, 11)\n",
    "fig, ax = plt.subplots(1, 2, figsize = (20, 5))\n",
    "\n",
    "sns.lineplot(x = epochs, y = accuracy, ax = ax[0])\n",
    "sns.lineplot(x = epochs, y = val_accuracy, ax = ax[0])\n",
    "ax[0].set_title('Accuracy Vs Epochs')\n",
    "sns.lineplot(x = epochs, y = loss, ax = ax[1])\n",
    "sns.lineplot(x = epochs, y = val_loss, ax = ax[1])\n",
    "ax[1].set_title('Loss Vs Epochs')\n",
    "plt.show()"
   ]
  },
  {
   "cell_type": "markdown",
   "metadata": {},
   "source": [
    "## 14. Conclusions \n",
    "\n",
    "1. It would be a good idea to use some tools such as wordcloud when we are doing Natural Language Processing (NLP) to ensure that we are getting the best results for predictions respectively. We would be able to understand the frequently occurring words from the less frequently occurring words by the size of the words that are plotted in the wordcloud respectively. \n",
    "2. Steps should be taken to ensure that the model does not overfit or underfit. This ensures that the best predictions are being generated and therefore, we are going to get the best outputs respectively. \n",
    "3. Standarizing the text and ensuring that the values lie between 0 and 1 would be good as this would allow the machine learning models to generate weights that are quite small rather than having different weight range values. "
   ]
  },
  {
   "cell_type": "markdown",
   "metadata": {},
   "source": []
  },
  {
   "cell_type": "markdown",
   "metadata": {},
   "source": []
  },
  {
   "cell_type": "markdown",
   "metadata": {},
   "source": []
  },
  {
   "cell_type": "markdown",
   "metadata": {},
   "source": []
  },
  {
   "cell_type": "markdown",
   "metadata": {},
   "source": []
  },
  {
   "cell_type": "markdown",
   "metadata": {},
   "source": []
  },
  {
   "cell_type": "markdown",
   "metadata": {},
   "source": []
  },
  {
   "cell_type": "markdown",
   "metadata": {},
   "source": []
  },
  {
   "cell_type": "markdown",
   "metadata": {},
   "source": []
  },
  {
   "cell_type": "markdown",
   "metadata": {},
   "source": []
  },
  {
   "cell_type": "markdown",
   "metadata": {},
   "source": []
  },
  {
   "cell_type": "markdown",
   "metadata": {},
   "source": []
  }
 ],
 "metadata": {
  "kernelspec": {
   "display_name": ".venv",
   "language": "python",
   "name": "python3"
  },
  "language_info": {
   "codemirror_mode": {
    "name": "ipython",
    "version": 3
   },
   "file_extension": ".py",
   "mimetype": "text/x-python",
   "name": "python",
   "nbconvert_exporter": "python",
   "pygments_lexer": "ipython3",
   "version": "3.12.8"
  }
 },
 "nbformat": 4,
 "nbformat_minor": 4
}
